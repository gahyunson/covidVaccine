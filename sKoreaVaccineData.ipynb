{
 "cells": [
  {
   "cell_type": "code",
   "execution_count": 98,
   "id": "bb53d642",
   "metadata": {},
   "outputs": [],
   "source": [
    "import pandas as pd\n",
    "import urllib.request as req\n",
    "from bs4 import BeautifulSoup"
   ]
  },
  {
   "cell_type": "code",
   "execution_count": 2,
   "id": "f3450bdf",
   "metadata": {},
   "outputs": [],
   "source": [
    "url=\"https://ncv.kdca.go.kr/mainStatus.es?mid=a11702000000\"\n",
    "res=req.urlopen(url)\n",
    "soup=BeautifulSoup(res,'html.parser')"
   ]
  },
  {
   "cell_type": "code",
   "execution_count": 130,
   "id": "0fd05b3d",
   "metadata": {},
   "outputs": [
    {
     "name": "stdout",
     "output_type": "stream",
     "text": [
      "[['서울', 37.530334, 126.979217, '3,519,568'], ['부산', 35.160301, 129.046013, '1,302,530'], ['대구', 35.82552, 128.577804, '812,726'], ['인천', 37.452734, 126.69507, '986,146'], ['광주', 35.141265, 126.83183, '521,619'], ['대전', 36.331327, 127.396008, '502,971'], ['울산', 35.527689, 129.296607, '377,491'], ['세종', 36.571867, 127.280291, '102,734'], ['경기', 37.408857, 127.114676, '4,433,216'], ['강원', 37.755049, 128.293353, '648,771'], ['충북', 36.764084, 127.750552, '616,685'], ['충남', 36.496158, 126.909176, '819,495'], ['전북', 35.723509, 127.112913, '764,691'], ['전남', 34.792699, 126.878555, '836,345'], ['경북', 36.371366, 128.778196, '1,037,553'], ['경남', 35.299341, 128.339668, '1,205,614'], ['제주', 33.478127, 126.525935, '241,546']]\n"
     ]
    }
   ],
   "source": [
    "numlist=soup.select('#content > div.data_table.tbl_scrl_mini > table > tbody > tr > td.ta_r')\n",
    "citylist=soup.select('#content > div > table > tbody > tr > th')\n",
    "# cityList=[\"용산구\",\"부산진구\",\"달서구\",\"강화군\",\"광주시\",\"유성구\",\"울주군\",\"세종시\",\"이천시\",\"평창군\",\"괴산군\",\"공주시\",\"전주시\",\"보성군\",\"의성군\",\"의령군\",\"제주시\"]\n",
    "lat=[37.530334, 35.160301, 35.825520,37.452734,35.141265,36.331327,35.527689,36.571867,37.408857,37.755049,36.764084, 36.496158, 35.723509, 34.792699, 36.371366,35.299341, 33.478127]\n",
    "lng=[126.979217, 129.046013, 128.577804, 126.695070, 126.831830,127.396008,129.296607, 127.280291, 127.114676,128.293353,127.750552,126.909176,127.112913,126.878555, 128.778196,128.339668,126.525935]\n",
    "\n",
    "accumulate=[]\n",
    "accumnum=[]\n",
    "for i in range(len(numlist)-1):\n",
    "    if (1+4*i) >len(numlist):\n",
    "        break\n",
    "    else:\n",
    "        accum=numlist[1+4*i].text\n",
    "        city=citylist[4+i].text\n",
    "        accumnum.append([city,lat[i],lng[i],accum])\n",
    "print(accumnum)"
   ]
  },
  {
   "cell_type": "code",
   "execution_count": 131,
   "id": "17f66f4e",
   "metadata": {},
   "outputs": [
    {
     "data": {
      "text/html": [
       "<div>\n",
       "<style scoped>\n",
       "    .dataframe tbody tr th:only-of-type {\n",
       "        vertical-align: middle;\n",
       "    }\n",
       "\n",
       "    .dataframe tbody tr th {\n",
       "        vertical-align: top;\n",
       "    }\n",
       "\n",
       "    .dataframe thead th {\n",
       "        text-align: right;\n",
       "    }\n",
       "</style>\n",
       "<table border=\"1\" class=\"dataframe\">\n",
       "  <thead>\n",
       "    <tr style=\"text-align: right;\">\n",
       "      <th></th>\n",
       "      <th>구분</th>\n",
       "      <th>위도</th>\n",
       "      <th>경도</th>\n",
       "      <th>누적합계</th>\n",
       "    </tr>\n",
       "  </thead>\n",
       "  <tbody>\n",
       "    <tr>\n",
       "      <th>0</th>\n",
       "      <td>서울</td>\n",
       "      <td>37.530334</td>\n",
       "      <td>126.979217</td>\n",
       "      <td>3,519,568</td>\n",
       "    </tr>\n",
       "    <tr>\n",
       "      <th>1</th>\n",
       "      <td>부산</td>\n",
       "      <td>35.160301</td>\n",
       "      <td>129.046013</td>\n",
       "      <td>1,302,530</td>\n",
       "    </tr>\n",
       "    <tr>\n",
       "      <th>2</th>\n",
       "      <td>대구</td>\n",
       "      <td>35.825520</td>\n",
       "      <td>128.577804</td>\n",
       "      <td>812,726</td>\n",
       "    </tr>\n",
       "    <tr>\n",
       "      <th>3</th>\n",
       "      <td>인천</td>\n",
       "      <td>37.452734</td>\n",
       "      <td>126.695070</td>\n",
       "      <td>986,146</td>\n",
       "    </tr>\n",
       "    <tr>\n",
       "      <th>4</th>\n",
       "      <td>광주</td>\n",
       "      <td>35.141265</td>\n",
       "      <td>126.831830</td>\n",
       "      <td>521,619</td>\n",
       "    </tr>\n",
       "    <tr>\n",
       "      <th>5</th>\n",
       "      <td>대전</td>\n",
       "      <td>36.331327</td>\n",
       "      <td>127.396008</td>\n",
       "      <td>502,971</td>\n",
       "    </tr>\n",
       "    <tr>\n",
       "      <th>6</th>\n",
       "      <td>울산</td>\n",
       "      <td>35.527689</td>\n",
       "      <td>129.296607</td>\n",
       "      <td>377,491</td>\n",
       "    </tr>\n",
       "    <tr>\n",
       "      <th>7</th>\n",
       "      <td>세종</td>\n",
       "      <td>36.571867</td>\n",
       "      <td>127.280291</td>\n",
       "      <td>102,734</td>\n",
       "    </tr>\n",
       "    <tr>\n",
       "      <th>8</th>\n",
       "      <td>경기</td>\n",
       "      <td>37.408857</td>\n",
       "      <td>127.114676</td>\n",
       "      <td>4,433,216</td>\n",
       "    </tr>\n",
       "    <tr>\n",
       "      <th>9</th>\n",
       "      <td>강원</td>\n",
       "      <td>37.755049</td>\n",
       "      <td>128.293353</td>\n",
       "      <td>648,771</td>\n",
       "    </tr>\n",
       "    <tr>\n",
       "      <th>10</th>\n",
       "      <td>충북</td>\n",
       "      <td>36.764084</td>\n",
       "      <td>127.750552</td>\n",
       "      <td>616,685</td>\n",
       "    </tr>\n",
       "    <tr>\n",
       "      <th>11</th>\n",
       "      <td>충남</td>\n",
       "      <td>36.496158</td>\n",
       "      <td>126.909176</td>\n",
       "      <td>819,495</td>\n",
       "    </tr>\n",
       "    <tr>\n",
       "      <th>12</th>\n",
       "      <td>전북</td>\n",
       "      <td>35.723509</td>\n",
       "      <td>127.112913</td>\n",
       "      <td>764,691</td>\n",
       "    </tr>\n",
       "    <tr>\n",
       "      <th>13</th>\n",
       "      <td>전남</td>\n",
       "      <td>34.792699</td>\n",
       "      <td>126.878555</td>\n",
       "      <td>836,345</td>\n",
       "    </tr>\n",
       "    <tr>\n",
       "      <th>14</th>\n",
       "      <td>경북</td>\n",
       "      <td>36.371366</td>\n",
       "      <td>128.778196</td>\n",
       "      <td>1,037,553</td>\n",
       "    </tr>\n",
       "    <tr>\n",
       "      <th>15</th>\n",
       "      <td>경남</td>\n",
       "      <td>35.299341</td>\n",
       "      <td>128.339668</td>\n",
       "      <td>1,205,614</td>\n",
       "    </tr>\n",
       "    <tr>\n",
       "      <th>16</th>\n",
       "      <td>제주</td>\n",
       "      <td>33.478127</td>\n",
       "      <td>126.525935</td>\n",
       "      <td>241,546</td>\n",
       "    </tr>\n",
       "  </tbody>\n",
       "</table>\n",
       "</div>"
      ],
      "text/plain": [
       "    구분         위도          경도       누적합계\n",
       "0   서울  37.530334  126.979217  3,519,568\n",
       "1   부산  35.160301  129.046013  1,302,530\n",
       "2   대구  35.825520  128.577804    812,726\n",
       "3   인천  37.452734  126.695070    986,146\n",
       "4   광주  35.141265  126.831830    521,619\n",
       "5   대전  36.331327  127.396008    502,971\n",
       "6   울산  35.527689  129.296607    377,491\n",
       "7   세종  36.571867  127.280291    102,734\n",
       "8   경기  37.408857  127.114676  4,433,216\n",
       "9   강원  37.755049  128.293353    648,771\n",
       "10  충북  36.764084  127.750552    616,685\n",
       "11  충남  36.496158  126.909176    819,495\n",
       "12  전북  35.723509  127.112913    764,691\n",
       "13  전남  34.792699  126.878555    836,345\n",
       "14  경북  36.371366  128.778196  1,037,553\n",
       "15  경남  35.299341  128.339668  1,205,614\n",
       "16  제주  33.478127  126.525935    241,546"
      ]
     },
     "execution_count": 131,
     "metadata": {},
     "output_type": "execute_result"
    }
   ],
   "source": [
    "df=pd.DataFrame(accumnum)\n",
    "df.columns=['구분','위도','경도','누적합계']\n",
    "df"
   ]
  },
  {
   "cell_type": "code",
   "execution_count": 132,
   "id": "2dddcf97",
   "metadata": {},
   "outputs": [],
   "source": [
    "df.to_excel('sKorea_vaccined.xlsx',index=False)"
   ]
  },
  {
   "cell_type": "code",
   "execution_count": null,
   "id": "30af9791",
   "metadata": {},
   "outputs": [],
   "source": []
  },
  {
   "cell_type": "code",
   "execution_count": null,
   "id": "de3cf3a8",
   "metadata": {},
   "outputs": [],
   "source": []
  },
  {
   "cell_type": "code",
   "execution_count": null,
   "id": "00b2ecb3",
   "metadata": {},
   "outputs": [],
   "source": []
  },
  {
   "cell_type": "code",
   "execution_count": null,
   "id": "f53562b0",
   "metadata": {},
   "outputs": [],
   "source": []
  },
  {
   "cell_type": "code",
   "execution_count": null,
   "id": "0926e430",
   "metadata": {},
   "outputs": [],
   "source": []
  },
  {
   "cell_type": "code",
   "execution_count": 134,
   "id": "709768c8",
   "metadata": {},
   "outputs": [],
   "source": [
    "whereurl='https://kor.timegenie.com/latitude_longitude/country/kr'\n",
    "where=req.urlopen(whereurl)\n",
    "whereSoup=BeautifulSoup(where,'html.parser')"
   ]
  },
  {
   "cell_type": "code",
   "execution_count": 147,
   "id": "7d1ae973",
   "metadata": {},
   "outputs": [
    {
     "name": "stdout",
     "output_type": "stream",
     "text": [
      "126.97806 37.56667\n"
     ]
    }
   ],
   "source": [
    "lngg=whereSoup.select('body > div > div.content > div > div > span')[2].string\n",
    "lonn=whereSoup.select('body > div > div.content > div > div > h5')[2].string\n",
    "print(lngg,lonn)\n",
    "\n",
    "\n",
    "\n",
    "\n"
   ]
  },
  {
   "cell_type": "code",
   "execution_count": null,
   "id": "53b0da4d",
   "metadata": {},
   "outputs": [],
   "source": [
    "서울 : 용산구 \n",
    "부산 : 부산진구\n",
    "대구 : 달서구\n",
    "인천 : 서구, 강화군\n",
    "광주 : 광주시\n",
    "대전 : 중구, 유성구, 대덕구\n",
    "울산 : 중구, 울주군\n",
    "세종 : 세종시\n",
    "경기 : 이천시, 양평군\n",
    "강원 : 평창군\n",
    "충북 : 괴산군\n",
    "충남 : 공주시\n",
    "전북 : 전주시\n",
    "전남 : 보성군\n",
    "경북 : 의성군\n",
    "경남 : 의령군\n",
    "제주 : 제주시\n",
    "(1, 1, 180, 2)"
   ]
  },
  {
   "cell_type": "code",
   "execution_count": null,
   "id": "6b4ff961",
   "metadata": {},
   "outputs": [],
   "source": [
    "# 압축/ 골라낸 json 지도파일을 이용하여 보다 정확하게 위경도 설정할 것."
   ]
  },
  {
   "cell_type": "code",
   "execution_count": null,
   "id": "94aa2d87",
   "metadata": {},
   "outputs": [],
   "source": [
    "# 위경도 골라내는 작업하던 것 , 압축을 한 파일을 이용한\n",
    "\n",
    "import re\n",
    "sKorea_geo=json.load(open('./skorea-geo.json'))\n",
    "for i in range(len(sKorea_geo['features'])):\n",
    "# ll=sKorea_geo['features'][0]['geometry']['coordinates'][0][0]\n",
    "    n=sKorea_geo['features'][i]['properties']['name']\n",
    "    print(n)\n",
    "\n",
    "# for i in range(len(sKorea_geo['features'])): # 250\n",
    "#     cityName=sKorea_geo['features'][i]['properties']['name']\n",
    "#     print(cityName)\n",
    "# #     if cityName==sKoreaviccineData['구분']:\n",
    "# #         print(cityName)\n",
    "\n",
    "# len(sKorea_geo['features']) # 17개의 구"
   ]
  },
  {
   "cell_type": "code",
   "execution_count": null,
   "id": "81d8d27f",
   "metadata": {},
   "outputs": [],
   "source": [
    "# 한국 전체 지도 이용한..\n",
    "a=folium.Map(\n",
    "    location=[37.34, 126.59],\n",
    "            )\n",
    "folium.GeoJson(\n",
    "    sKorea_geo,\n",
    "#     style_function=myFunction\n",
    ").add_to(a)\n",
    "a"
   ]
  },
  {
   "cell_type": "code",
   "execution_count": null,
   "id": "380698da",
   "metadata": {},
   "outputs": [],
   "source": []
  },
  {
   "cell_type": "code",
   "execution_count": null,
   "id": "22e088ae",
   "metadata": {},
   "outputs": [],
   "source": []
  },
  {
   "cell_type": "code",
   "execution_count": 1,
   "id": "262ab8cf",
   "metadata": {},
   "outputs": [
    {
     "ename": "NameError",
     "evalue": "name 'pd' is not defined",
     "output_type": "error",
     "traceback": [
      "\u001b[0;31m---------------------------------------------------------------------------\u001b[0m",
      "\u001b[0;31mNameError\u001b[0m                                 Traceback (most recent call last)",
      "\u001b[0;32m<ipython-input-1-ef52e7875aca>\u001b[0m in \u001b[0;36m<module>\u001b[0;34m\u001b[0m\n\u001b[0;32m----> 1\u001b[0;31m \u001b[0mglobalData\u001b[0m\u001b[0;34m=\u001b[0m\u001b[0mpd\u001b[0m\u001b[0;34m.\u001b[0m\u001b[0mread_csv\u001b[0m\u001b[0;34m(\u001b[0m\u001b[0;34m'./data.csv'\u001b[0m\u001b[0;34m)\u001b[0m \u001b[0;31m# 전체 데이터 7월11일까지있음..\u001b[0m\u001b[0;34m\u001b[0m\u001b[0;34m\u001b[0m\u001b[0m\n\u001b[0m\u001b[1;32m      2\u001b[0m \u001b[0mdates\u001b[0m\u001b[0;34m=\u001b[0m\u001b[0;34m[\u001b[0m\u001b[0;34m]\u001b[0m\u001b[0;34m\u001b[0m\u001b[0;34m\u001b[0m\u001b[0m\n\u001b[1;32m      3\u001b[0m \u001b[0;32mfor\u001b[0m \u001b[0mi\u001b[0m \u001b[0;32min\u001b[0m \u001b[0mglobalData\u001b[0m\u001b[0;34m.\u001b[0m\u001b[0mindex\u001b[0m\u001b[0;34m:\u001b[0m\u001b[0;34m\u001b[0m\u001b[0;34m\u001b[0m\u001b[0m\n\u001b[1;32m      4\u001b[0m     \u001b[0mlocation\u001b[0m\u001b[0;34m=\u001b[0m\u001b[0mglobalData\u001b[0m\u001b[0;34m.\u001b[0m\u001b[0mloc\u001b[0m\u001b[0;34m[\u001b[0m\u001b[0mi\u001b[0m\u001b[0;34m,\u001b[0m\u001b[0;34m'location'\u001b[0m\u001b[0;34m]\u001b[0m \u001b[0;31m# 국가 이름\u001b[0m\u001b[0;34m\u001b[0m\u001b[0;34m\u001b[0m\u001b[0m\n\u001b[1;32m      5\u001b[0m     \u001b[0mfullDate\u001b[0m\u001b[0;34m=\u001b[0m\u001b[0mglobalData\u001b[0m\u001b[0;34m.\u001b[0m\u001b[0mloc\u001b[0m\u001b[0;34m[\u001b[0m\u001b[0mi\u001b[0m\u001b[0;34m,\u001b[0m\u001b[0;34m'date'\u001b[0m\u001b[0;34m]\u001b[0m\u001b[0;34m\u001b[0m\u001b[0;34m\u001b[0m\u001b[0m\n",
      "\u001b[0;31mNameError\u001b[0m: name 'pd' is not defined"
     ]
    }
   ],
   "source": [
    "globalData=pd.read_csv('./data.csv') # 전체 데이터 7월11일까지있음..\n",
    "dates=[]\n",
    "for i in globalData.index:\n",
    "    location=globalData.loc[i,'location'] # 국가 이름\n",
    "    fullDate=globalData.loc[i,'date']\n",
    "    fullVaccined=globalData.loc[i,'people_vaccinated']\n",
    "    dates.append(fullDate)\n",
    "    fullData.append([location,fullDate,fullVaccined])\n",
    "\n",
    "# a=globalData.groupby(globalData['location']).max(globalData['people_vaccinated'])\n",
    "a=globalData.groupby(globalData['location']).max(globalData['people_vaccinated'])\n",
    "a\n",
    "# res=set(dates)\n",
    "# res\n",
    "# national=globalData['location']\n",
    "# nat=list(set(national))\n",
    "# nat.sort()\n",
    "# # if globalData['location']==nat[1]:\n",
    "# #     print(fullData.index(nat[1]))\n",
    "# for i in fullData.index:\n",
    "#     fullData[i].index(nat[1])\n"
   ]
  },
  {
   "cell_type": "code",
   "execution_count": 2,
   "id": "171e581d",
   "metadata": {},
   "outputs": [
    {
     "ename": "NameError",
     "evalue": "name 'pd' is not defined",
     "output_type": "error",
     "traceback": [
      "\u001b[0;31m---------------------------------------------------------------------------\u001b[0m",
      "\u001b[0;31mNameError\u001b[0m                                 Traceback (most recent call last)",
      "\u001b[0;32m<ipython-input-2-1dcc84294c58>\u001b[0m in \u001b[0;36m<module>\u001b[0;34m\u001b[0m\n\u001b[0;32m----> 1\u001b[0;31m \u001b[0mglobalData\u001b[0m\u001b[0;34m=\u001b[0m\u001b[0mpd\u001b[0m\u001b[0;34m.\u001b[0m\u001b[0mread_csv\u001b[0m\u001b[0;34m(\u001b[0m\u001b[0;34m'./data.csv'\u001b[0m\u001b[0;34m)\u001b[0m \u001b[0;31m# 전체 데이터 7월11일까지있음..\u001b[0m\u001b[0;34m\u001b[0m\u001b[0;34m\u001b[0m\u001b[0m\n\u001b[0m\u001b[1;32m      2\u001b[0m \u001b[0mglobalData\u001b[0m\u001b[0;34m.\u001b[0m\u001b[0mcolumns\u001b[0m\u001b[0;34m\u001b[0m\u001b[0;34m\u001b[0m\u001b[0m\n\u001b[1;32m      3\u001b[0m \u001b[0;31m# national=globalData['location']\u001b[0m\u001b[0;34m\u001b[0m\u001b[0;34m\u001b[0m\u001b[0;34m\u001b[0m\u001b[0m\n\u001b[1;32m      4\u001b[0m \u001b[0;31m# nat=list(set(national))\u001b[0m\u001b[0;34m\u001b[0m\u001b[0;34m\u001b[0m\u001b[0;34m\u001b[0m\u001b[0m\n\u001b[1;32m      5\u001b[0m \u001b[0;31m# nat.sort() # nat의 수가 너무 많아서 전부를 다하는건 어려울듯 231개인가\u001b[0m\u001b[0;34m\u001b[0m\u001b[0;34m\u001b[0m\u001b[0;34m\u001b[0m\u001b[0m\n",
      "\u001b[0;31mNameError\u001b[0m: name 'pd' is not defined"
     ]
    }
   ],
   "source": [
    "globalData=pd.read_csv('./data.csv') # 전체 데이터 7월11일까지있음..\n",
    "globalData.columns\n",
    "# national=globalData['location']\n",
    "# nat=list(set(national))\n",
    "# nat.sort() # nat의 수가 너무 많아서 전부를 다하는건 어려울듯 231개인가\n",
    "# fullData=[]\n",
    "# natData=[]\n",
    "# afgDate=[]\n",
    "# 마지막 날짜 배열로 알아내기?\n",
    "# for i in globalData.index:\n",
    "#     location=globalData.loc[i,'location'] # 국가 이름\n",
    "#     fullDate=globalData.loc[i,'date']\n",
    "#     fullVaccined=globalData.loc[i,'people_vaccinated']\n",
    "#     fullData.append([location,fullDate,fullVaccined])\n",
    "\n",
    "# a=globalData.groupby(['location'])['people_vaccinated']\n",
    "\n",
    "# globalData['location']\n",
    "\n",
    "#     if fullData[i][0]==nat[1] :\n",
    "#         afgDate=fullData[i][1]\n",
    "#     elif fullData[i][0]==nat[2] :\n",
    "#         afgDate=fullData[i][1]\n"
   ]
  },
  {
   "cell_type": "code",
   "execution_count": null,
   "id": "befc73b1",
   "metadata": {},
   "outputs": [],
   "source": []
  }
 ],
 "metadata": {
  "kernelspec": {
   "display_name": "Python 3",
   "language": "python",
   "name": "python3"
  },
  "language_info": {
   "codemirror_mode": {
    "name": "ipython",
    "version": 3
   },
   "file_extension": ".py",
   "mimetype": "text/x-python",
   "name": "python",
   "nbconvert_exporter": "python",
   "pygments_lexer": "ipython3",
   "version": "3.8.8"
  }
 },
 "nbformat": 4,
 "nbformat_minor": 5
}
